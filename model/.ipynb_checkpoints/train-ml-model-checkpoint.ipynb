{
 "cells": [
  {
   "cell_type": "code",
   "execution_count": 1,
   "metadata": {},
   "outputs": [],
   "source": [
    "import os\n",
    "import matplotlib.pyplot as plt\n",
    "import numpy as np\n",
    "import pandas as pd\n",
    "from PIL import Image\n",
    "import re"
   ]
  },
  {
   "cell_type": "code",
   "execution_count": 37,
   "metadata": {},
   "outputs": [],
   "source": [
    "def img_2_array(file):\n",
    "    y = re.findall('/(\\w)_\\d+\\.\\w+', file)[0]\n",
    "    img = Image.open(file)\n",
    "    array = list(np.array(img).flatten())\n",
    "    return y, array"
   ]
  },
  {
   "cell_type": "code",
   "execution_count": 3,
   "metadata": {},
   "outputs": [],
   "source": [
    "image_path = '../data/converted_images'\n",
    "files = os.listdir(image_path)\n",
    "X = list()\n",
    "for file in files:\n",
    "    path = os.path.join(image_path, file)\n",
    "    y = re.split('_(\\d+)', path)[0][-1]\n",
    "    img = Image.open(path)\n",
    "    array = list(np.array(img).flatten())\n",
    "    array.append(y)\n",
    "    X.append(array)\n",
    "df = pd.DataFrame(X)\n",
    "df.columns = ['pixel{}'.format(i) for i in range(1, 433)] + ['label']"
   ]
  },
  {
   "cell_type": "code",
   "execution_count": 4,
   "metadata": {},
   "outputs": [],
   "source": [
    "df.to_csv('../data/data_sets.csv', index=None)"
   ]
  },
  {
   "cell_type": "code",
   "execution_count": 8,
   "metadata": {},
   "outputs": [],
   "source": [
    "df = pd.read_csv('../data/data_sets.csv')\n",
    "X = df.iloc[:, :-1].values\n",
    "y = df.iloc[:, -1].values\n",
    "# df.head()"
   ]
  },
  {
   "cell_type": "code",
   "execution_count": 9,
   "metadata": {},
   "outputs": [],
   "source": [
    "from sklearn.metrics import accuracy_score, classification_report\n",
    "from sklearn.preprocessing import LabelEncoder, MinMaxScaler\n",
    "from sklearn.cross_validation import train_test_split\n",
    "from sklearn.ensemble import RandomForestClassifier\n",
    "from sklearn.pipeline import Pipeline\n",
    "from sklearn.svm import SVC\n",
    "le = LabelEncoder()\n",
    "y_le = le.fit_transform(y)\n",
    "X_train, X_test, y_train, y_test = train_test_split(X, y_le, test_size=0.3, random_state=1)"
   ]
  },
  {
   "cell_type": "code",
   "execution_count": 12,
   "metadata": {},
   "outputs": [
    {
     "name": "stderr",
     "output_type": "stream",
     "text": [
      "/home/liuchao/.pyenv/versions/3.6.3/lib/python3.6/site-packages/sklearn/utils/validation.py:475: DataConversionWarning: Data with input dtype int64 was converted to float64 by MinMaxScaler.\n",
      "  warnings.warn(msg, DataConversionWarning)\n"
     ]
    },
    {
     "data": {
      "text/plain": [
       "0.9926508732491787"
      ]
     },
     "execution_count": 12,
     "metadata": {},
     "output_type": "execute_result"
    }
   ],
   "source": [
    "pipe_rf = Pipeline([('mm', MinMaxScaler()),\n",
    "                   ('clf', RandomForestClassifier(random_state=1, n_estimators=1000, n_jobs=-1, criterion='entropy'))])\n",
    "pipe_rf.fit(X_train, y_train)\n",
    "pipe_rf.score(X_test, y_test)"
   ]
  },
  {
   "cell_type": "code",
   "execution_count": 31,
   "metadata": {},
   "outputs": [
    {
     "name": "stderr",
     "output_type": "stream",
     "text": [
      "/home/liuchao/.pyenv/versions/3.6.3/lib/python3.6/site-packages/sklearn/preprocessing/label.py:151: DeprecationWarning: The truth value of an empty array is ambiguous. Returning False, but in future this will result in an error. Use `array.size > 0` to check that an array is not empty.\n",
      "  if diff:\n"
     ]
    },
    {
     "data": {
      "text/plain": [
       "array(['N', '7', '7', ..., 'M', 'E', '2'], dtype=object)"
      ]
     },
     "execution_count": 31,
     "metadata": {},
     "output_type": "execute_result"
    }
   ],
   "source": [
    "y_pred = pipe_rf.predict(X_test)\n",
    "le.inverse_transform(y_pred)"
   ]
  },
  {
   "cell_type": "code",
   "execution_count": 42,
   "metadata": {},
   "outputs": [
    {
     "name": "stdout",
     "output_type": "stream",
     "text": [
      "[1]\n",
      "['3']\n"
     ]
    },
    {
     "name": "stderr",
     "output_type": "stream",
     "text": [
      "/home/liuchao/.pyenv/versions/3.6.3/lib/python3.6/site-packages/sklearn/preprocessing/label.py:151: DeprecationWarning: The truth value of an empty array is ambiguous. Returning False, but in future this will result in an error. Use `array.size > 0` to check that an array is not empty.\n",
      "  if diff:\n"
     ]
    }
   ],
   "source": [
    "y, X = img_2_array('../captcha_handle/3_3.jpg')\n",
    "y_pred = pipe_rf.predict([X])\n",
    "print(y_pred)\n",
    "y_true = le.inverse_transform(y_pred)\n",
    "print(y_true)"
   ]
  },
  {
   "cell_type": "code",
   "execution_count": 13,
   "metadata": {},
   "outputs": [
    {
     "name": "stderr",
     "output_type": "stream",
     "text": [
      "ERROR:root:Internal Python error in the inspect module.\n",
      "Below is the traceback from this internal error.\n",
      "\n"
     ]
    },
    {
     "name": "stdout",
     "output_type": "stream",
     "text": [
      "Traceback (most recent call last):\n",
      "  File \"/home/liuchao/.pyenv/versions/3.6.3/lib/python3.6/site-packages/IPython/core/interactiveshell.py\", line 2910, in run_code\n",
      "    exec(code_obj, self.user_global_ns, self.user_ns)\n",
      "  File \"<ipython-input-13-5e77385c55a5>\", line 2, in <module>\n",
      "    pickle.dump(pipe_rf, open('random_forest_model', 'wb'), protocol=4)\n",
      "FileNotFoundError: [Errno 2] No such file or directory: 'random_forest_model'\n",
      "\n",
      "During handling of the above exception, another exception occurred:\n",
      "\n",
      "Traceback (most recent call last):\n",
      "  File \"/home/liuchao/.pyenv/versions/3.6.3/lib/python3.6/site-packages/IPython/core/interactiveshell.py\", line 1828, in showtraceback\n",
      "    stb = value._render_traceback_()\n",
      "AttributeError: 'FileNotFoundError' object has no attribute '_render_traceback_'\n",
      "\n",
      "During handling of the above exception, another exception occurred:\n",
      "\n",
      "Traceback (most recent call last):\n",
      "  File \"/home/liuchao/.pyenv/versions/3.6.3/lib/python3.6/site-packages/IPython/core/ultratb.py\", line 1090, in get_records\n",
      "    return _fixed_getinnerframes(etb, number_of_lines_of_context, tb_offset)\n",
      "  File \"/home/liuchao/.pyenv/versions/3.6.3/lib/python3.6/site-packages/IPython/core/ultratb.py\", line 311, in wrapped\n",
      "    return f(*args, **kwargs)\n",
      "  File \"/home/liuchao/.pyenv/versions/3.6.3/lib/python3.6/site-packages/IPython/core/ultratb.py\", line 345, in _fixed_getinnerframes\n",
      "    records = fix_frame_records_filenames(inspect.getinnerframes(etb, context))\n",
      "  File \"/home/liuchao/.pyenv/versions/3.6.3/lib/python3.6/inspect.py\", line 1480, in getinnerframes\n",
      "    frameinfo = (tb.tb_frame,) + getframeinfo(tb, context)\n",
      "  File \"/home/liuchao/.pyenv/versions/3.6.3/lib/python3.6/inspect.py\", line 1438, in getframeinfo\n",
      "    filename = getsourcefile(frame) or getfile(frame)\n",
      "  File \"/home/liuchao/.pyenv/versions/3.6.3/lib/python3.6/inspect.py\", line 693, in getsourcefile\n",
      "    if getattr(getmodule(object, filename), '__loader__', None) is not None:\n",
      "  File \"/home/liuchao/.pyenv/versions/3.6.3/lib/python3.6/inspect.py\", line 722, in getmodule\n",
      "    file = getabsfile(object, _filename)\n",
      "  File \"/home/liuchao/.pyenv/versions/3.6.3/lib/python3.6/inspect.py\", line 706, in getabsfile\n",
      "    return os.path.normcase(os.path.abspath(_filename))\n",
      "  File \"/home/liuchao/.pyenv/versions/3.6.3/lib/python3.6/posixpath.py\", line 374, in abspath\n",
      "    cwd = os.getcwd()\n",
      "FileNotFoundError: [Errno 2] No such file or directory\n"
     ]
    },
    {
     "ename": "FileNotFoundError",
     "evalue": "[Errno 2] No such file or directory: 'random_forest_model'",
     "output_type": "error",
     "traceback": [
      "\u001b[0;31m---------------------------------------------------------------------------\u001b[0m"
     ]
    }
   ],
   "source": [
    "import pickle\n",
    "pickle.dump(pipe_rf, open('random_forest_model', 'wb'), protocol=4)"
   ]
  },
  {
   "cell_type": "code",
   "execution_count": 7,
   "metadata": {},
   "outputs": [
    {
     "name": "stdout",
     "output_type": "stream",
     "text": [
      "             precision    recall  f1-score   support\n",
      "\n",
      "          0       0.99      1.00      1.00       371\n",
      "          1       0.99      0.99      0.99       374\n",
      "          2       1.00      1.00      1.00       339\n",
      "          3       1.00      0.99      0.99       350\n",
      "          4       0.99      0.99      0.99       345\n",
      "          5       1.00      0.99      1.00       399\n",
      "          6       1.00      0.99      0.99       364\n",
      "          7       1.00      0.99      0.99       395\n",
      "          8       1.00      1.00      1.00       366\n",
      "          9       0.99      1.00      1.00       354\n",
      "         10       0.99      1.00      0.99       365\n",
      "         11       0.99      0.99      0.99       330\n",
      "         12       1.00      0.99      1.00       373\n",
      "         13       1.00      0.99      0.99       358\n",
      "         14       1.00      0.99      0.99       350\n",
      "         15       1.00      0.99      1.00       355\n",
      "         16       0.94      1.00      0.97       326\n",
      "         17       0.99      0.99      0.99       362\n",
      "         18       1.00      0.99      0.99       372\n",
      "         19       0.97      0.98      0.97       368\n",
      "         20       1.00      0.99      1.00       367\n",
      "         21       0.99      1.00      1.00       375\n",
      "         22       0.99      1.00      0.99       353\n",
      "         23       1.00      1.00      1.00       342\n",
      "         24       1.00      0.99      0.99       376\n",
      "         25       0.99      0.99      0.99       384\n",
      "         26       0.99      1.00      0.99       343\n",
      "         27       1.00      0.99      0.99       374\n",
      "         28       0.96      0.97      0.97       357\n",
      "         29       1.00      0.99      1.00       349\n",
      "         30       0.99      1.00      1.00       343\n",
      "         31       1.00      0.99      0.99       387\n",
      "\n",
      "avg / total       0.99      0.99      0.99     11566\n",
      "\n"
     ]
    }
   ],
   "source": [
    "import pickle\n",
    "from sklearn.metrics import classification_report\n",
    "model = pickle.load(open('random_forest_model', 'rb'))\n",
    "le = pickle.load(open('label_encoder', 'rb'))\n",
    "y_pred = model.predict(X_test)\n",
    "report = classification_report(y_test, y_pred)\n",
    "print(report)"
   ]
  },
  {
   "cell_type": "code",
   "execution_count": null,
   "metadata": {},
   "outputs": [],
   "source": []
  }
 ],
 "metadata": {
  "kernelspec": {
   "display_name": "Python 3",
   "language": "python",
   "name": "python3"
  },
  "language_info": {
   "codemirror_mode": {
    "name": "ipython",
    "version": 3
   },
   "file_extension": ".py",
   "mimetype": "text/x-python",
   "name": "python",
   "nbconvert_exporter": "python",
   "pygments_lexer": "ipython3",
   "version": "3.6.3"
  },
  "toc": {
   "base_numbering": 1,
   "nav_menu": {},
   "number_sections": true,
   "sideBar": true,
   "skip_h1_title": false,
   "title_cell": "Table of Contents",
   "title_sidebar": "Contents",
   "toc_cell": false,
   "toc_position": {},
   "toc_section_display": true,
   "toc_window_display": false
  }
 },
 "nbformat": 4,
 "nbformat_minor": 2
}
