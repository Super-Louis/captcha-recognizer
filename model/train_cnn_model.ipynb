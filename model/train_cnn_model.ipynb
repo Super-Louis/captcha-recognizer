{
 "cells": [
  {
   "cell_type": "code",
   "execution_count": 1,
   "metadata": {},
   "outputs": [],
   "source": [
    "import os\n",
    "import matplotlib.pyplot as plt\n",
    "import numpy as np\n",
    "import pandas as pd\n",
    "from PIL import Image\n",
    "import re"
   ]
  },
  {
   "cell_type": "code",
   "execution_count": 2,
   "metadata": {},
   "outputs": [],
   "source": [
    "image_path = '../data/extracted_letters'\n",
    "files = os.listdir(image_path)\n",
    "X = list()\n",
    "for file in files:\n",
    "    path = os.path.join(image_path, file)\n",
    "    y = re.findall('/(\\w)_\\d+\\.\\w+', path)[0]\n",
    "    img = Image.open(path)\n",
    "#     r_image = img.resize((24, 24))\n",
    "    array = list(np.array(img).flatten())\n",
    "    array.append(y)\n",
    "    X.append(array)\n",
    "df = pd.DataFrame(X)\n",
    "df.columns = ['pixel{}'.format(i) for i in range(1, 577)] + ['label']"
   ]
  },
  {
   "cell_type": "code",
   "execution_count": 3,
   "metadata": {},
   "outputs": [
    {
     "data": {
      "text/html": [
       "<div>\n",
       "<style>\n",
       "    .dataframe thead tr:only-child th {\n",
       "        text-align: right;\n",
       "    }\n",
       "\n",
       "    .dataframe thead th {\n",
       "        text-align: left;\n",
       "    }\n",
       "\n",
       "    .dataframe tbody tr th {\n",
       "        vertical-align: top;\n",
       "    }\n",
       "</style>\n",
       "<table border=\"1\" class=\"dataframe\">\n",
       "  <thead>\n",
       "    <tr style=\"text-align: right;\">\n",
       "      <th></th>\n",
       "      <th>pixel1</th>\n",
       "      <th>pixel2</th>\n",
       "      <th>pixel3</th>\n",
       "      <th>pixel4</th>\n",
       "      <th>pixel5</th>\n",
       "      <th>pixel6</th>\n",
       "      <th>pixel7</th>\n",
       "      <th>pixel8</th>\n",
       "      <th>pixel9</th>\n",
       "      <th>pixel10</th>\n",
       "      <th>...</th>\n",
       "      <th>pixel424</th>\n",
       "      <th>pixel425</th>\n",
       "      <th>pixel426</th>\n",
       "      <th>pixel427</th>\n",
       "      <th>pixel428</th>\n",
       "      <th>pixel429</th>\n",
       "      <th>pixel430</th>\n",
       "      <th>pixel431</th>\n",
       "      <th>pixel432</th>\n",
       "      <th>label</th>\n",
       "    </tr>\n",
       "  </thead>\n",
       "  <tbody>\n",
       "    <tr>\n",
       "      <th>0</th>\n",
       "      <td>0</td>\n",
       "      <td>4</td>\n",
       "      <td>5</td>\n",
       "      <td>0</td>\n",
       "      <td>12</td>\n",
       "      <td>0</td>\n",
       "      <td>0</td>\n",
       "      <td>3</td>\n",
       "      <td>0</td>\n",
       "      <td>8</td>\n",
       "      <td>...</td>\n",
       "      <td>4</td>\n",
       "      <td>8</td>\n",
       "      <td>3</td>\n",
       "      <td>0</td>\n",
       "      <td>0</td>\n",
       "      <td>0</td>\n",
       "      <td>10</td>\n",
       "      <td>3</td>\n",
       "      <td>0</td>\n",
       "      <td>N</td>\n",
       "    </tr>\n",
       "    <tr>\n",
       "      <th>1</th>\n",
       "      <td>4</td>\n",
       "      <td>0</td>\n",
       "      <td>16</td>\n",
       "      <td>0</td>\n",
       "      <td>0</td>\n",
       "      <td>0</td>\n",
       "      <td>6</td>\n",
       "      <td>0</td>\n",
       "      <td>4</td>\n",
       "      <td>10</td>\n",
       "      <td>...</td>\n",
       "      <td>1</td>\n",
       "      <td>0</td>\n",
       "      <td>9</td>\n",
       "      <td>0</td>\n",
       "      <td>0</td>\n",
       "      <td>0</td>\n",
       "      <td>0</td>\n",
       "      <td>0</td>\n",
       "      <td>0</td>\n",
       "      <td>V</td>\n",
       "    </tr>\n",
       "    <tr>\n",
       "      <th>2</th>\n",
       "      <td>0</td>\n",
       "      <td>0</td>\n",
       "      <td>0</td>\n",
       "      <td>0</td>\n",
       "      <td>0</td>\n",
       "      <td>0</td>\n",
       "      <td>0</td>\n",
       "      <td>3</td>\n",
       "      <td>0</td>\n",
       "      <td>8</td>\n",
       "      <td>...</td>\n",
       "      <td>7</td>\n",
       "      <td>0</td>\n",
       "      <td>4</td>\n",
       "      <td>0</td>\n",
       "      <td>9</td>\n",
       "      <td>0</td>\n",
       "      <td>0</td>\n",
       "      <td>0</td>\n",
       "      <td>0</td>\n",
       "      <td>r</td>\n",
       "    </tr>\n",
       "    <tr>\n",
       "      <th>3</th>\n",
       "      <td>7</td>\n",
       "      <td>0</td>\n",
       "      <td>0</td>\n",
       "      <td>9</td>\n",
       "      <td>1</td>\n",
       "      <td>6</td>\n",
       "      <td>12</td>\n",
       "      <td>7</td>\n",
       "      <td>2</td>\n",
       "      <td>10</td>\n",
       "      <td>...</td>\n",
       "      <td>5</td>\n",
       "      <td>9</td>\n",
       "      <td>0</td>\n",
       "      <td>0</td>\n",
       "      <td>2</td>\n",
       "      <td>0</td>\n",
       "      <td>5</td>\n",
       "      <td>0</td>\n",
       "      <td>0</td>\n",
       "      <td>r</td>\n",
       "    </tr>\n",
       "    <tr>\n",
       "      <th>4</th>\n",
       "      <td>0</td>\n",
       "      <td>2</td>\n",
       "      <td>0</td>\n",
       "      <td>0</td>\n",
       "      <td>5</td>\n",
       "      <td>9</td>\n",
       "      <td>0</td>\n",
       "      <td>10</td>\n",
       "      <td>8</td>\n",
       "      <td>0</td>\n",
       "      <td>...</td>\n",
       "      <td>0</td>\n",
       "      <td>8</td>\n",
       "      <td>0</td>\n",
       "      <td>7</td>\n",
       "      <td>14</td>\n",
       "      <td>3</td>\n",
       "      <td>0</td>\n",
       "      <td>1</td>\n",
       "      <td>0</td>\n",
       "      <td>t</td>\n",
       "    </tr>\n",
       "  </tbody>\n",
       "</table>\n",
       "<p>5 rows × 433 columns</p>\n",
       "</div>"
      ],
      "text/plain": [
       "   pixel1  pixel2  pixel3  pixel4  pixel5  pixel6  pixel7  pixel8  pixel9  \\\n",
       "0       0       4       5       0      12       0       0       3       0   \n",
       "1       4       0      16       0       0       0       6       0       4   \n",
       "2       0       0       0       0       0       0       0       3       0   \n",
       "3       7       0       0       9       1       6      12       7       2   \n",
       "4       0       2       0       0       5       9       0      10       8   \n",
       "\n",
       "   pixel10  ...    pixel424  pixel425  pixel426  pixel427  pixel428  pixel429  \\\n",
       "0        8  ...           4         8         3         0         0         0   \n",
       "1       10  ...           1         0         9         0         0         0   \n",
       "2        8  ...           7         0         4         0         9         0   \n",
       "3       10  ...           5         9         0         0         2         0   \n",
       "4        0  ...           0         8         0         7        14         3   \n",
       "\n",
       "   pixel430  pixel431  pixel432  label  \n",
       "0        10         3         0      N  \n",
       "1         0         0         0      V  \n",
       "2         0         0         0      r  \n",
       "3         5         0         0      r  \n",
       "4         0         1         0      t  \n",
       "\n",
       "[5 rows x 433 columns]"
      ]
     },
     "execution_count": 3,
     "metadata": {},
     "output_type": "execute_result"
    }
   ],
   "source": [
    "df.head()"
   ]
  },
  {
   "cell_type": "code",
   "execution_count": 4,
   "metadata": {},
   "outputs": [],
   "source": [
    "df.to_csv('../data/cnn_data_sets.csv', index=None)"
   ]
  },
  {
   "cell_type": "code",
   "execution_count": 11,
   "metadata": {},
   "outputs": [],
   "source": [
    "X = df.iloc[:, 0:432].values"
   ]
  },
  {
   "cell_type": "code",
   "execution_count": 12,
   "metadata": {},
   "outputs": [],
   "source": [
    "y = df.iloc[:, -1].values"
   ]
  },
  {
   "cell_type": "code",
   "execution_count": 16,
   "metadata": {},
   "outputs": [],
   "source": [
    "# 特征处理\n",
    "from sklearn.preprocessing import LabelEncoder\n",
    "le = LabelEncoder()\n",
    "y = le.fit_transform(y)"
   ]
  },
  {
   "cell_type": "code",
   "execution_count": 24,
   "metadata": {},
   "outputs": [],
   "source": [
    "from sklearn.preprocessing import OneHotEncoder\n",
    "oh = OneHotEncoder()\n",
    "y = oh.fit_transform(np.expand_dims(y, 1))"
   ]
  },
  {
   "cell_type": "code",
   "execution_count": 26,
   "metadata": {},
   "outputs": [],
   "source": [
    "y = y.toarray()"
   ]
  },
  {
   "cell_type": "code",
   "execution_count": 29,
   "metadata": {},
   "outputs": [],
   "source": [
    "# shuffle the datasets\n",
    "np.random.seed(1)"
   ]
  },
  {
   "cell_type": "code",
   "execution_count": 31,
   "metadata": {},
   "outputs": [],
   "source": [
    "# shuffle the datasets\n",
    "index = np.random.permutation(X.shape[0])\n",
    "X = X[index]\n",
    "y = y[index]"
   ]
  },
  {
   "cell_type": "code",
   "execution_count": 34,
   "metadata": {},
   "outputs": [
    {
     "data": {
      "text/plain": [
       "array([0., 0., 0., 0., 0., 0., 0., 0., 0., 0., 0., 0., 0., 0., 0., 0., 0.,\n",
       "       0., 0., 0., 0., 0., 0., 0., 0., 0., 0., 0., 0., 0., 0., 0., 0., 1.,\n",
       "       0., 0., 0., 0., 0., 0., 0., 0., 0., 0., 0., 0., 0.])"
      ]
     },
     "execution_count": 34,
     "metadata": {},
     "output_type": "execute_result"
    }
   ],
   "source": [
    "y[0]"
   ]
  },
  {
   "cell_type": "code",
   "execution_count": 35,
   "metadata": {},
   "outputs": [],
   "source": [
    "# split datasets to train and test sets\n",
    "from sklearn.cross_validation import train_test_split\n",
    "X_train, X_test, y_train, y_test = train_test_split(X, y, test_size=0.3)"
   ]
  },
  {
   "cell_type": "code",
   "execution_count": 42,
   "metadata": {},
   "outputs": [
    {
     "name": "stderr",
     "output_type": "stream",
     "text": [
      "/home/liuchao/.pyenv/versions/3.6.3/lib/python3.6/site-packages/sklearn/utils/validation.py:475: DataConversionWarning: Data with input dtype int64 was converted to float64 by MinMaxScaler.\n",
      "  warnings.warn(msg, DataConversionWarning)\n"
     ]
    }
   ],
   "source": [
    "# transform data to 0~1 distribution\n",
    "from sklearn.preprocessing import MinMaxScaler\n",
    "mm = MinMaxScaler()\n",
    "X_train_mm = mm.fit_transform(X_train)\n",
    "X_test_mm = mm.transform(X_test)"
   ]
  },
  {
   "cell_type": "code",
   "execution_count": 46,
   "metadata": {},
   "outputs": [],
   "source": [
    "# resize the data to image size\n",
    "X_train_final = X_train_mm.reshape([-1, 24, 18, 1])\n",
    "X_test_final = X_test_mm.reshape([-1, 24, 18, 1])"
   ]
  },
  {
   "cell_type": "code",
   "execution_count": 48,
   "metadata": {},
   "outputs": [],
   "source": [
    "# save the data to local files\n",
    "import pickle\n",
    "pickle.dump(X_train_final, open('../data/X_train_cnn', 'wb'), protocol=4)\n",
    "pickle.dump(X_test_final, open('../data/X_test_cnn', 'wb'), protocol=4)\n",
    "pickle.dump(y_train, open('../data/y_train_cnn', 'wb'), protocol=4)\n",
    "pickle.dump(y_test, open('../data/y_test_cnn', 'wb'), protocol=4)\n",
    "pickle.dump(le, open('../data/le_cnn', 'wb'), protocol=4)\n",
    "pickle.dump(oh, open('../data/oh_cnn', 'wb'), protocol=4)"
   ]
  },
  {
   "cell_type": "code",
   "execution_count": 61,
   "metadata": {},
   "outputs": [],
   "source": [
    "pickle.dump(mm, open('../data/mm_cnn', 'wb'), protocol=4)"
   ]
  },
  {
   "cell_type": "code",
   "execution_count": 49,
   "metadata": {},
   "outputs": [
    {
     "data": {
      "text/plain": [
       "(193051, 47)"
      ]
     },
     "execution_count": 49,
     "metadata": {},
     "output_type": "execute_result"
    }
   ],
   "source": [
    "y_train.shape"
   ]
  },
  {
   "cell_type": "code",
   "execution_count": 50,
   "metadata": {},
   "outputs": [],
   "source": [
    "import tensorflow as tf"
   ]
  },
  {
   "cell_type": "code",
   "execution_count": 52,
   "metadata": {},
   "outputs": [],
   "source": [
    "# 输入与输出\n",
    "X = tf.placeholder(tf.float32, shape=[None, 24, 18, 1], name='x-input')\n",
    "y_ = tf.placeholder(tf.int32, shape=[None, 47], name='y-input')\n",
    "y_ = tf.cast(y_, 'float')\n",
    "\n",
    "# 卷积层1\n",
    "w_conv1 = tf.Variable(tf.truncated_normal(shape=[5, 5, 1, 6], stddev=0.1))\n",
    "bias_conv1 = tf.Variable(tf.constant(0.1, shape=[6]))\n",
    "h_conv1 = tf.nn.relu(tf.nn.conv2d(X, w_conv1, padding='SAME', strides=[1,1,1,1]) + bias_conv1)\n",
    "# 池化层1\n",
    "h_pool1 = tf.nn.max_pool(h_conv1, ksize=[1, 2, 2, 1], strides=[1, 2, 2, 1], padding='SAME')\n",
    "\n",
    "# 卷积层2\n",
    "w_conv2 = tf.Variable(tf.truncated_normal(shape=[5, 5, 6, 16], stddev=0.1))\n",
    "bias_conv2 = tf.Variable(tf.constant(0.1, shape=[16]))\n",
    "h_conv2 = tf.nn.relu(tf.nn.conv2d(h_pool1, w_conv2, padding='VALID', strides=[1,1,1,1]) + bias_conv2)\n",
    "# 池化层2\n",
    "# h_pool2 = tf.nn.max_pool(h_conv2, ksize=[1, 2, 2, 1], strides=[1, 2, 2, 1], padding='SAME')\n",
    "\n",
    "# 全连接层1\n",
    "W_fc1 = tf.Variable(tf.truncated_normal(shape=[8 * 5 * 16, 120], stddev=0.1))\n",
    "b_fc1 = tf.Variable(tf.constant(0.1, shape=[120]))\n",
    "h_conv2_flat = tf.reshape(h_conv2, [-1, 8*5*16])\n",
    "h_fc1 = tf.nn.relu(tf.matmul(h_conv2_flat, W_fc1) + b_fc1)\n",
    "keep_prob = tf.placeholder(tf.float32)\n",
    "h_fc1_drop = tf.nn.dropout(h_fc1, keep_prob)\n",
    "w1_loss = tf.contrib.layers.l2_regularizer(0.001)(W_fc1)\n",
    "\n",
    "# 全连接层2\n",
    "W_fc2 = tf.Variable(tf.truncated_normal(shape=[120, 84], stddev=0.1))\n",
    "b_fc2 = tf.Variable(tf.constant(0.1, shape=[84]))\n",
    "h_fc2 = tf.nn.relu(tf.matmul(h_fc1_drop, W_fc2) + b_fc2)\n",
    "w2_loss = tf.contrib.layers.l2_regularizer(0.001)(W_fc2)\n",
    "# keep_prob2 = tf.placeholder(tf.float32)\n",
    "# h_fc2_drop = tf.nn.dropout(h_fc2, keep_prob2)\n",
    "\n",
    "# 输出层\n",
    "W_fc3 = tf.Variable(tf.truncated_normal(shape=[84, 47], stddev=0.1))\n",
    "b_fc3 = tf.Variable(tf.constant(0.1, shape=[47]))\n",
    "y_conv = tf.nn.softmax(tf.matmul(h_fc2, W_fc3) + b_fc3)\n",
    "w3_loss = tf.contrib.layers.l2_regularizer(0.001)(W_fc3)\n",
    "\n",
    "# global_step = tf.Variable(0, trainable=False)\n",
    "# learning_rate = tf.train.exponential_decay(\n",
    "# 0.0001,\n",
    "# global_step,\n",
    "# X_train.shape[0] / 100,\n",
    "# 0.99\n",
    "# )\n",
    "# 损失函数与准确率\n",
    "cross_entropy = -tf.reduce_sum(y_*tf.log(tf.clip_by_value(y_conv, 1e-10, 1.0)))\n",
    "losses = cross_entropy + w1_loss + w2_loss + w3_loss\n",
    "train_step = tf.train.AdamOptimizer(1e-3).minimize(losses)\n",
    "correct_prediction = tf.equal(tf.argmax(y_conv,1), tf.argmax(y_,1))\n",
    "accuracy = tf.reduce_mean(tf.cast(correct_prediction, \"float\"))"
   ]
  },
  {
   "cell_type": "code",
   "execution_count": 53,
   "metadata": {},
   "outputs": [],
   "source": [
    "sess = tf.InteractiveSession()"
   ]
  },
  {
   "cell_type": "code",
   "execution_count": 54,
   "metadata": {},
   "outputs": [
    {
     "name": "stderr",
     "output_type": "stream",
     "text": [
      "WARNING:tensorflow:From /home/liuchao/.pyenv/versions/3.6.3/lib/python3.6/site-packages/tensorflow/python/util/tf_should_use.py:118: initialize_all_variables (from tensorflow.python.ops.variables) is deprecated and will be removed after 2017-03-02.\n",
      "Instructions for updating:\n",
      "Use `tf.global_variables_initializer` instead.\n"
     ]
    }
   ],
   "source": [
    "sess.run(tf.initialize_all_variables())"
   ]
  },
  {
   "cell_type": "code",
   "execution_count": 56,
   "metadata": {},
   "outputs": [
    {
     "name": "stdout",
     "output_type": "stream",
     "text": [
      "training accuracy after 0 step(s) is 0.03\n",
      "training accuracy after 1000 step(s) is 0.99\n",
      "training accuracy after 2000 step(s) is 0.98\n",
      "training accuracy after 3000 step(s) is 0.99\n",
      "training accuracy after 4000 step(s) is 0.99\n",
      "training accuracy after 5000 step(s) is 0.99\n",
      "training accuracy after 6000 step(s) is 0.99\n",
      "training accuracy after 7000 step(s) is 0.98\n",
      "training accuracy after 8000 step(s) is 0.99\n",
      "training accuracy after 9000 step(s) is 0.99\n",
      "training accuracy after 10000 step(s) is 1.00\n",
      "training accuracy after 11000 step(s) is 0.99\n",
      "training accuracy after 12000 step(s) is 0.99\n",
      "training accuracy after 13000 step(s) is 0.99\n",
      "training accuracy after 14000 step(s) is 0.99\n",
      "training accuracy after 15000 step(s) is 0.99\n",
      "training accuracy after 16000 step(s) is 0.99\n",
      "training accuracy after 17000 step(s) is 0.99\n",
      "training accuracy after 18000 step(s) is 0.99\n",
      "training accuracy after 19000 step(s) is 0.99\n",
      "training accuracy after 20000 step(s) is 0.99\n",
      "training accuracy after 21000 step(s) is 0.99\n",
      "training accuracy after 22000 step(s) is 0.99\n",
      "training accuracy after 23000 step(s) is 1.00\n",
      "training accuracy after 24000 step(s) is 0.99\n",
      "training accuracy after 25000 step(s) is 1.00\n",
      "training accuracy after 26000 step(s) is 0.99\n",
      "training accuracy after 27000 step(s) is 0.99\n",
      "training accuracy after 28000 step(s) is 0.99\n",
      "training accuracy after 29000 step(s) is 0.99\n",
      "test accuracy: 0.99\n"
     ]
    }
   ],
   "source": [
    "batch_size = 1000\n",
    "data_size = X_train_final.shape[0]\n",
    "for i in range(30000):\n",
    "    start = (i*batch_size) % data_size # 可以重复选取\n",
    "    end = min(start+batch_size, data_size)\n",
    "    if i % 1000 == 0:\n",
    "        train_accuracy = sess.run(accuracy, feed_dict={X: X_train_final[start:end], y_: y_train[start:end],\n",
    "                                                       keep_prob:1.0})\n",
    "        print('training accuracy after %d step(s) is %.2f' % (i, train_accuracy))\n",
    "    sess.run(train_step, feed_dict={X: X_train_final[start:end], y_: y_train[start:end], keep_prob:0.5})\n",
    "test_accuracy = accuracy.eval(feed_dict={X: X_test_final, y_: y_test, keep_prob:1.0})\n",
    "print(\"test accuracy: %.2f\" % test_accuracy)"
   ]
  },
  {
   "cell_type": "code",
   "execution_count": 57,
   "metadata": {},
   "outputs": [],
   "source": [
    "saver = tf.train.Saver()"
   ]
  },
  {
   "cell_type": "code",
   "execution_count": 62,
   "metadata": {},
   "outputs": [
    {
     "data": {
      "text/plain": [
       "'./cnn_model_0.99.ckpt'"
      ]
     },
     "execution_count": 62,
     "metadata": {},
     "output_type": "execute_result"
    }
   ],
   "source": [
    "saver.save(sess, \"./cnn_model_0.99.ckpt\")"
   ]
  },
  {
   "cell_type": "code",
   "execution_count": 71,
   "metadata": {},
   "outputs": [
    {
     "data": {
      "text/plain": [
       "<tf.Tensor 'Softmax_1:0' shape=(?, 47) dtype=float32>"
      ]
     },
     "execution_count": 71,
     "metadata": {},
     "output_type": "execute_result"
    }
   ],
   "source": [
    "y_conv"
   ]
  },
  {
   "cell_type": "code",
   "execution_count": 72,
   "metadata": {},
   "outputs": [
    {
     "data": {
      "text/plain": [
       "<tf.Tensor 'x-input_1:0' shape=(?, 24, 18, 1) dtype=float32>"
      ]
     },
     "execution_count": 72,
     "metadata": {},
     "output_type": "execute_result"
    }
   ],
   "source": [
    "X"
   ]
  },
  {
   "cell_type": "code",
   "execution_count": 73,
   "metadata": {},
   "outputs": [
    {
     "data": {
      "text/plain": [
       "<tf.Tensor 'Placeholder_1:0' shape=<unknown> dtype=float32>"
      ]
     },
     "execution_count": 73,
     "metadata": {},
     "output_type": "execute_result"
    }
   ],
   "source": [
    "keep_prob"
   ]
  }
 ],
 "metadata": {
  "kernelspec": {
   "display_name": "Python 3",
   "language": "python",
   "name": "python3"
  },
  "language_info": {
   "codemirror_mode": {
    "name": "ipython",
    "version": 3
   },
   "file_extension": ".py",
   "mimetype": "text/x-python",
   "name": "python",
   "nbconvert_exporter": "python",
   "pygments_lexer": "ipython3",
   "version": "3.6.3"
  },
  "toc": {
   "base_numbering": 1,
   "nav_menu": {},
   "number_sections": true,
   "sideBar": true,
   "skip_h1_title": false,
   "title_cell": "Table of Contents",
   "title_sidebar": "Contents",
   "toc_cell": false,
   "toc_position": {},
   "toc_section_display": true,
   "toc_window_display": false
  }
 },
 "nbformat": 4,
 "nbformat_minor": 2
}
