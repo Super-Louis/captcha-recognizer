{
 "cells": [
  {
   "cell_type": "code",
   "execution_count": 1,
   "metadata": {},
   "outputs": [],
   "source": [
    "import tensorflow as tf\n",
    "import numpy as np"
   ]
  },
  {
   "cell_type": "code",
   "execution_count": 2,
   "metadata": {},
   "outputs": [],
   "source": [
    "%run cnn_utils.py"
   ]
  },
  {
   "cell_type": "code",
   "execution_count": 3,
   "metadata": {},
   "outputs": [],
   "source": [
    "batch_size = 100\n",
    "shuffle_buffer =10000\n",
    "num_epochs = 4\n",
    "test_batch_szie = 15000 # 全部用于测试\n",
    "test_epoch = 1"
   ]
  },
  {
   "cell_type": "code",
   "execution_count": 4,
   "metadata": {},
   "outputs": [
    {
     "name": "stdout",
     "output_type": "stream",
     "text": [
      "train steps: 100, accuracy: 0.000\n",
      "train steps: 200, accuracy: 0.000\n",
      "train steps: 300, accuracy: 0.000\n",
      "train steps: 400, accuracy: 0.010\n",
      "train steps: 500, accuracy: 0.020\n",
      "train steps: 600, accuracy: 0.010\n",
      "train steps: 700, accuracy: 0.120\n",
      "train steps: 800, accuracy: 0.110\n",
      "train steps: 900, accuracy: 0.250\n",
      "train steps: 1000, accuracy: 0.250\n",
      "train steps: 1100, accuracy: 0.270\n",
      "train steps: 1200, accuracy: 0.320\n",
      "train steps: 1300, accuracy: 0.360\n",
      "train steps: 1400, accuracy: 0.360\n",
      "train steps: 1500, accuracy: 0.350\n",
      "train steps: 1600, accuracy: 0.470\n",
      "train steps: 1700, accuracy: 0.460\n",
      "train steps: 1800, accuracy: 0.500\n",
      "train steps: 1900, accuracy: 0.450\n",
      "train steps: 2000, accuracy: 0.510\n",
      "train steps: 2100, accuracy: 0.460\n",
      "train steps: 2200, accuracy: 0.530\n",
      "train steps: 2300, accuracy: 0.540\n",
      "train steps: 2400, accuracy: 0.600\n",
      "train steps: 2500, accuracy: 0.580\n",
      "train steps: 2600, accuracy: 0.600\n",
      "train steps: 2700, accuracy: 0.590\n",
      "train steps: 2800, accuracy: 0.530\n",
      "train steps: 2900, accuracy: 0.640\n",
      "train steps: 3000, accuracy: 0.590\n",
      "train steps: 3100, accuracy: 0.700\n",
      "train steps: 3200, accuracy: 0.610\n",
      "train steps: 3300, accuracy: 0.670\n",
      "train steps: 3400, accuracy: 0.660\n",
      "train steps: 3500, accuracy: 0.740\n",
      "train steps: 3600, accuracy: 0.630\n",
      "train steps: 3700, accuracy: 0.630\n",
      "train steps: 3800, accuracy: 0.680\n",
      "train steps: 3900, accuracy: 0.640\n",
      "train steps: 4000, accuracy: 0.630\n",
      "train steps: 4100, accuracy: 0.730\n",
      "train steps: 4200, accuracy: 0.730\n",
      "train steps: 4300, accuracy: 0.700\n",
      "train steps: 4400, accuracy: 0.740\n",
      "train steps: 4500, accuracy: 0.750\n",
      "train steps: 4600, accuracy: 0.750\n",
      "train steps: 4700, accuracy: 0.690\n",
      "train steps: 4800, accuracy: 0.720\n",
      "train steps: 4900, accuracy: 0.670\n",
      "train steps: 5000, accuracy: 0.710\n",
      "train steps: 5100, accuracy: 0.770\n",
      "train steps: 5200, accuracy: 0.690\n",
      "train steps: 5300, accuracy: 0.640\n",
      "train steps: 5400, accuracy: 0.730\n",
      "train steps: 5500, accuracy: 0.760\n",
      "train steps: 5600, accuracy: 0.690\n",
      "train steps: 5700, accuracy: 0.720\n",
      "train steps: 5800, accuracy: 0.810\n",
      "train steps: 5900, accuracy: 0.740\n",
      "train steps: 6000, accuracy: 0.790\n",
      "train steps: 6100, accuracy: 0.850\n",
      "train steps: 6200, accuracy: 0.780\n",
      "train steps: 6300, accuracy: 0.720\n",
      "train steps: 6400, accuracy: 0.790\n",
      "train steps: 6500, accuracy: 0.750\n",
      "train steps: 6600, accuracy: 0.760\n",
      "train steps: 6700, accuracy: 0.690\n",
      "train steps: 6800, accuracy: 0.720\n",
      "train steps: 6900, accuracy: 0.710\n",
      "train steps: 7000, accuracy: 0.830\n",
      "train steps: 7100, accuracy: 0.700\n",
      "train steps: 7200, accuracy: 0.830\n",
      "train steps: 7300, accuracy: 0.810\n",
      "train steps: 7400, accuracy: 0.800\n",
      "train steps: 7500, accuracy: 0.840\n",
      "train steps: 7600, accuracy: 0.820\n",
      "train steps: 7700, accuracy: 0.780\n",
      "train steps: 7800, accuracy: 0.790\n",
      "train steps: 7900, accuracy: 0.830\n",
      "train steps: 8000, accuracy: 0.890\n",
      "train steps: 8100, accuracy: 0.840\n",
      "train steps: 8200, accuracy: 0.750\n",
      "train steps: 8300, accuracy: 0.820\n",
      "train steps: 8400, accuracy: 0.820\n",
      "train steps: 8500, accuracy: 0.780\n",
      "train steps: 8600, accuracy: 0.790\n",
      "train steps: 8700, accuracy: 0.850\n",
      "train steps: 8800, accuracy: 0.820\n",
      "train steps: 8900, accuracy: 0.830\n",
      "train steps: 9000, accuracy: 0.860\n",
      "train steps: 9100, accuracy: 0.760\n",
      "train steps: 9200, accuracy: 0.910\n",
      "train steps: 9300, accuracy: 0.860\n",
      "train steps: 9400, accuracy: 0.900\n",
      "train steps: 9500, accuracy: 0.780\n",
      "train steps: 9600, accuracy: 0.870\n",
      "train steps: 9700, accuracy: 0.840\n",
      "train steps: 9800, accuracy: 0.820\n",
      "train steps: 9900, accuracy: 0.820\n",
      "train steps: 10000, accuracy: 0.840\n",
      "train steps: 10100, accuracy: 0.910\n",
      "train steps: 10200, accuracy: 0.910\n",
      "train steps: 10300, accuracy: 0.870\n",
      "train steps: 10400, accuracy: 0.890\n",
      "train steps: 10500, accuracy: 0.890\n",
      "train steps: 10600, accuracy: 0.850\n",
      "train steps: 10700, accuracy: 0.850\n",
      "train steps: 10800, accuracy: 0.880\n",
      "train steps: 10900, accuracy: 0.830\n",
      "train steps: 11000, accuracy: 0.900\n",
      "train steps: 11100, accuracy: 0.850\n",
      "train steps: 11200, accuracy: 0.880\n",
      "train steps: 11300, accuracy: 0.860\n",
      "train steps: 11400, accuracy: 0.860\n",
      "train steps: 11500, accuracy: 0.850\n",
      "train steps: 11600, accuracy: 0.900\n",
      "train steps: 11700, accuracy: 0.910\n",
      "train steps: 11800, accuracy: 0.850\n",
      "train steps: 11900, accuracy: 0.810\n",
      "train steps: 12000, accuracy: 0.900\n",
      "train steps: 12100, accuracy: 0.890\n",
      "train steps: 12200, accuracy: 0.860\n",
      "train steps: 12300, accuracy: 0.900\n",
      "train steps: 12400, accuracy: 0.900\n",
      "train steps: 12500, accuracy: 0.830\n",
      "train steps: 12600, accuracy: 0.760\n",
      "train steps: 12700, accuracy: 0.880\n",
      "train steps: 12800, accuracy: 0.830\n",
      "train steps: 12900, accuracy: 0.870\n",
      "train steps: 13000, accuracy: 0.850\n",
      "train steps: 13100, accuracy: 0.890\n",
      "train steps: 13200, accuracy: 0.850\n",
      "train steps: 13300, accuracy: 0.890\n",
      "train steps: 13400, accuracy: 0.870\n",
      "train steps: 13500, accuracy: 0.860\n",
      "train steps: 13600, accuracy: 0.910\n",
      "train steps: 13700, accuracy: 0.940\n",
      "train steps: 13800, accuracy: 0.840\n",
      "train steps: 13900, accuracy: 0.870\n",
      "train steps: 14000, accuracy: 0.880\n",
      "train steps: 14100, accuracy: 0.890\n",
      "train steps: 14200, accuracy: 0.900\n",
      "train steps: 14300, accuracy: 0.880\n",
      "train steps: 14400, accuracy: 0.880\n",
      "train steps: 14500, accuracy: 0.940\n",
      "train steps: 14600, accuracy: 0.870\n",
      "train steps: 14700, accuracy: 0.920\n",
      "train steps: 14800, accuracy: 0.900\n",
      "train steps: 14900, accuracy: 0.920\n",
      "train steps: 15000, accuracy: 0.880\n",
      "train steps: 15100, accuracy: 0.920\n",
      "train steps: 15200, accuracy: 0.880\n",
      "train steps: 15300, accuracy: 0.880\n",
      "train steps: 15400, accuracy: 0.910\n",
      "train steps: 15500, accuracy: 0.890\n",
      "train steps: 15600, accuracy: 0.930\n",
      "train steps: 15700, accuracy: 0.920\n",
      "train steps: 15800, accuracy: 0.850\n",
      "train steps: 15900, accuracy: 0.900\n",
      "train steps: 16000, accuracy: 0.850\n",
      "train steps: 16100, accuracy: 0.880\n",
      "train steps: 16200, accuracy: 0.880\n",
      "train steps: 16300, accuracy: 0.920\n",
      "train steps: 16400, accuracy: 0.890\n",
      "train steps: 16500, accuracy: 0.910\n",
      "train steps: 16600, accuracy: 0.880\n",
      "train steps: 16700, accuracy: 0.900\n",
      "train steps: 16800, accuracy: 0.910\n",
      "train steps: 16900, accuracy: 0.950\n",
      "train steps: 17000, accuracy: 0.930\n",
      "train steps: 17100, accuracy: 0.930\n",
      "train steps: 17200, accuracy: 0.890\n",
      "train steps: 17300, accuracy: 0.900\n",
      "train steps: 17400, accuracy: 0.880\n",
      "train steps: 17500, accuracy: 0.880\n",
      "train steps: 17600, accuracy: 0.920\n",
      "train steps: 17700, accuracy: 0.910\n",
      "train steps: 17800, accuracy: 0.910\n",
      "train steps: 17900, accuracy: 0.950\n",
      "train steps: 18000, accuracy: 0.890\n",
      "train steps: 18100, accuracy: 0.860\n",
      "train steps: 18200, accuracy: 0.930\n",
      "train steps: 18300, accuracy: 0.940\n",
      "train steps: 18400, accuracy: 0.900\n",
      "train steps: 18500, accuracy: 0.900\n",
      "train steps: 18600, accuracy: 0.900\n",
      "train steps: 18700, accuracy: 0.910\n",
      "train steps: 18800, accuracy: 0.920\n",
      "train steps: 18900, accuracy: 0.870\n",
      "train steps: 19000, accuracy: 0.910\n",
      "train steps: 19100, accuracy: 0.930\n",
      "train steps: 19200, accuracy: 0.880\n",
      "train steps: 19300, accuracy: 0.870\n",
      "train steps: 19400, accuracy: 0.860\n",
      "train steps: 19500, accuracy: 0.910\n",
      "train steps: 19600, accuracy: 0.910\n",
      "train steps: 19700, accuracy: 0.880\n",
      "train steps: 19800, accuracy: 0.880\n",
      "train steps: 19900, accuracy: 0.930\n",
      "train steps: 20000, accuracy: 0.930\n",
      "test acuracy: 0.906\n"
     ]
    }
   ],
   "source": [
    "params = batch_size, shuffle_buffer, num_epochs\n",
    "iterator_train = get_iterator(params, '../data/train_sets.tfrecords')\n",
    "train_image_batch, train_label_batch = iterator_train.get_next()\n",
    "\n",
    "params = batch_size, shuffle_buffer, test_epoch\n",
    "iterator_test = get_iterator(params, '../data/test_sets.tfrecords')\n",
    "test_image_batch, test_label_batch = iterator_test.get_next()\n",
    "\n",
    "X = tf.placeholder(tf.float32, shape=[None, 48, 120, 1], name='x-input')\n",
    "y_ = tf.placeholder(tf.int64, shape=[None, 208], name='y-input')\n",
    "y_ = tf.cast(y_, tf.float32)\n",
    "keep_prob = tf.placeholder(tf.float32, name='keep_prob')\n",
    "y_pred = inference(X, keep_prob)\n",
    "cross_entropy = -tf.reduce_sum(y_ * tf.log(tf.clip_by_value(y_pred, 1e-10, 1.0)))\n",
    "losses = cross_entropy + tf.add_n(tf.get_collection('losses'))\n",
    "# global_step = tf.Variable(0, trainable=False)\n",
    "# learning_rate = tf.train.exponential_decay(\n",
    "# 0.001,\n",
    "# global_step,\n",
    "# 5000, # 所有数据训练完所需的轮数\n",
    "# 0.99\n",
    "# )\n",
    "train_step = tf.train.AdamOptimizer(0.001).minimize(losses)\n",
    "accuracy = calc_accuracy(y_pred, y_)\n",
    "\n",
    "sess = tf.InteractiveSession()\n",
    "sess.run([tf.global_variables_initializer(), tf.local_variables_initializer()])\n",
    "sess.run(iterator_train.initializer)\n",
    "train_count = 0\n",
    "while True:\n",
    "    train_count += 1\n",
    "    try:\n",
    "        X_train, y_train = sess.run([train_image_batch, train_label_batch])\n",
    "        if train_count % 100 == 0:\n",
    "            train_accuracy = sess.run(accuracy, feed_dict={X:X_train, y_: y_train, keep_prob: 1})\n",
    "            print('train steps: %d, accuracy: %.3f' % (train_count, train_accuracy))\n",
    "        sess.run(train_step, feed_dict={X:X_train, y_: y_train, keep_prob: 0.5})\n",
    "    except Exception as e:\n",
    "        break\n",
    "# run test sets\n",
    "sess.run(iterator_test.initializer)\n",
    "test_accuracies = []\n",
    "while True:\n",
    "    try:\n",
    "        X_test, y_test = sess.run([test_image_batch, test_label_batch])\n",
    "        test_accuracy = sess.run(accuracy, feed_dict={X:X_test, y_: y_test, keep_prob: 1})\n",
    "        test_accuracies.append(test_accuracy)\n",
    "    except Exception as e:\n",
    "        break\n",
    "print('test acuracy: %.3f' % np.mean(test_accuracies))"
   ]
  },
  {
   "cell_type": "code",
   "execution_count": 5,
   "metadata": {},
   "outputs": [
    {
     "data": {
      "text/plain": [
       "<tf.Tensor 'x-input:0' shape=(?, 48, 120, 1) dtype=float32>"
      ]
     },
     "execution_count": 5,
     "metadata": {},
     "output_type": "execute_result"
    }
   ],
   "source": [
    "X"
   ]
  },
  {
   "cell_type": "code",
   "execution_count": 6,
   "metadata": {},
   "outputs": [
    {
     "data": {
      "text/plain": [
       "<tf.Tensor 'Cast:0' shape=(?, 208) dtype=float32>"
      ]
     },
     "execution_count": 6,
     "metadata": {},
     "output_type": "execute_result"
    }
   ],
   "source": [
    "y_"
   ]
  },
  {
   "cell_type": "code",
   "execution_count": 7,
   "metadata": {},
   "outputs": [
    {
     "data": {
      "text/plain": [
       "<tf.Tensor 'keep_prob:0' shape=<unknown> dtype=float32>"
      ]
     },
     "execution_count": 7,
     "metadata": {},
     "output_type": "execute_result"
    }
   ],
   "source": [
    "keep_prob"
   ]
  },
  {
   "cell_type": "code",
   "execution_count": 8,
   "metadata": {},
   "outputs": [
    {
     "data": {
      "text/plain": [
       "<tf.Tensor 'y_pred:0' shape=(?, 208) dtype=float32>"
      ]
     },
     "execution_count": 8,
     "metadata": {},
     "output_type": "execute_result"
    }
   ],
   "source": [
    "y_pred"
   ]
  }
 ],
 "metadata": {
  "kernelspec": {
   "display_name": "Python 3",
   "language": "python",
   "name": "python3"
  },
  "language_info": {
   "codemirror_mode": {
    "name": "ipython",
    "version": 3
   },
   "file_extension": ".py",
   "mimetype": "text/x-python",
   "name": "python",
   "nbconvert_exporter": "python",
   "pygments_lexer": "ipython3",
   "version": "3.6.3"
  },
  "toc": {
   "base_numbering": 1,
   "nav_menu": {},
   "number_sections": true,
   "sideBar": true,
   "skip_h1_title": false,
   "title_cell": "Table of Contents",
   "title_sidebar": "Contents",
   "toc_cell": false,
   "toc_position": {},
   "toc_section_display": true,
   "toc_window_display": false
  }
 },
 "nbformat": 4,
 "nbformat_minor": 2
}
