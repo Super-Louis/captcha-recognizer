{
 "cells": [
  {
   "cell_type": "code",
   "execution_count": 75,
   "metadata": {},
   "outputs": [],
   "source": [
    "import tensorflow as tf\n",
    "import numpy as np\n",
    "from gen_sample import create_data"
   ]
  },
  {
   "cell_type": "code",
   "execution_count": 94,
   "metadata": {},
   "outputs": [],
   "source": [
    "writer = tf.python_io.TFRecordWriter('../data/test_sets.tfrecords')\n",
    "for i in range(15000):\n",
    "    X, y = create_data()\n",
    "    image_raw = X.tostring()\n",
    "    labels = y.tostring()\n",
    "    example = tf.train.Example(\n",
    "        features = tf.train.Features(\n",
    "            feature={\n",
    "                'image_raw': tf.train.Feature(bytes_list=tf.train.BytesList(value=[image_raw])),\n",
    "                'label': tf.train.Feature(bytes_list=tf.train.BytesList(value=[labels]))\n",
    "            }\n",
    "        )\n",
    "    )\n",
    "    writer.write(example.SerializeToString())\n",
    "writer.close()"
   ]
  }
 ],
 "metadata": {
  "kernelspec": {
   "display_name": "Python 3",
   "language": "python",
   "name": "python3"
  },
  "language_info": {
   "codemirror_mode": {
    "name": "ipython",
    "version": 3
   },
   "file_extension": ".py",
   "mimetype": "text/x-python",
   "name": "python",
   "nbconvert_exporter": "python",
   "pygments_lexer": "ipython3",
   "version": "3.6.3"
  },
  "toc": {
   "base_numbering": 1.0,
   "nav_menu": {},
   "number_sections": true,
   "sideBar": true,
   "skip_h1_title": false,
   "title_cell": "Table of Contents",
   "title_sidebar": "Contents",
   "toc_cell": false,
   "toc_position": {},
   "toc_section_display": true,
   "toc_window_display": false
  }
 },
 "nbformat": 4,
 "nbformat_minor": 2
}
